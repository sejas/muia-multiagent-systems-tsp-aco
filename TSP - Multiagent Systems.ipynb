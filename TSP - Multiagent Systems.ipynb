{
 "cells": [
  {
   "cell_type": "markdown",
   "metadata": {},
   "source": [
    "# Multiagent systems - TSP Problem"
   ]
  },
  {
   "cell_type": "code",
   "execution_count": 1,
   "metadata": {},
   "outputs": [
    {
     "name": "stdout",
     "output_type": "stream",
     "text": [
      "Pixiedust database opened successfully\n"
     ]
    },
    {
     "data": {
      "text/html": [
       "\n",
       "        <div style=\"margin:10px\">\n",
       "            <a href=\"https://github.com/ibm-watson-data-lab/pixiedust\" target=\"_new\">\n",
       "                <img src=\"https://github.com/ibm-watson-data-lab/pixiedust/raw/master/docs/_static/pd_icon32.png\" style=\"float:left;margin-right:10px\"/>\n",
       "            </a>\n",
       "            <span>Pixiedust version 1.1.18</span>\n",
       "        </div>\n",
       "        "
      ],
      "text/plain": [
       "<IPython.core.display.HTML object>"
      ]
     },
     "metadata": {},
     "output_type": "display_data"
    }
   ],
   "source": [
    "import tsplib95\n",
    "from random import randrange, random, shuffle\n",
    "from bisect import bisect\n",
    "import pandas as pd\n",
    "import matplotlib.pyplot as plt\n",
    "import pixiedust"
   ]
  },
  {
   "cell_type": "markdown",
   "metadata": {},
   "source": [
    "## Load TSP Problem"
   ]
  },
  {
   "cell_type": "code",
   "execution_count": 2,
   "metadata": {},
   "outputs": [],
   "source": [
    "# Data Source : http://www.math.uwaterloo.ca/tsp/world/countries.html\n",
    "TSP_FILE = 'uy734.tsp' # 🇺🇾 Uruguay\n",
    "TSP_FILE = 'wi29.tsp' # 🇪🇭 Western Sahara"
   ]
  },
  {
   "cell_type": "code",
   "execution_count": 3,
   "metadata": {},
   "outputs": [
    {
     "name": "stdout",
     "output_type": "stream",
     "text": [
      "<class 'tsplib95.models.StandardProblem'>\n"
     ]
    }
   ],
   "source": [
    "# LOAD TSP FILE\n",
    "PROBLEM = tsplib95.load(TSP_FILE)\n",
    "print(type(PROBLEM))"
   ]
  },
  {
   "cell_type": "code",
   "execution_count": 4,
   "metadata": {},
   "outputs": [
    {
     "data": {
      "text/plain": [
       "'TSP'"
      ]
     },
     "execution_count": 4,
     "metadata": {},
     "output_type": "execute_result"
    }
   ],
   "source": [
    "PROBLEM.type"
   ]
  },
  {
   "cell_type": "code",
   "execution_count": 5,
   "metadata": {},
   "outputs": [
    {
     "name": "stdout",
     "output_type": "stream",
     "text": [
      "29 Cities\n"
     ]
    }
   ],
   "source": [
    "N = len(list(PROBLEM.get_nodes())) # N is total cities\n",
    "print(\"%s Cities\"%N)"
   ]
  },
  {
   "cell_type": "code",
   "execution_count": 6,
   "metadata": {},
   "outputs": [
    {
     "data": {
      "text/plain": [
       "[21300.0, 13016.6667]"
      ]
     },
     "execution_count": 6,
     "metadata": {},
     "output_type": "execute_result"
    }
   ],
   "source": [
    "# Example city coordinates\n",
    "PROBLEM.node_coords[3]"
   ]
  },
  {
   "cell_type": "code",
   "execution_count": 7,
   "metadata": {},
   "outputs": [
    {
     "data": {
      "text/plain": [
       "7799"
      ]
     },
     "execution_count": 7,
     "metadata": {},
     "output_type": "execute_result"
    }
   ],
   "source": [
    "# Distance between first and last cities\n",
    "edge = {'start':1,'end':N}\n",
    "PROBLEM.get_weight(**edge)"
   ]
  },
  {
   "cell_type": "markdown",
   "metadata": {},
   "source": [
    "## Basic Ant"
   ]
  },
  {
   "cell_type": "code",
   "execution_count": 8,
   "metadata": {
    "pixiedust": {
     "displayParams": {}
    }
   },
   "outputs": [],
   "source": [
    "class Ant:\n",
    "    tour = None\n",
    "    tsp = PROBLEM\n",
    "    _tour_weight_cache = {'n_cities':0, 'weight': 0} # code optimization\n",
    "    \n",
    "    def __init__(self, city_i=0):\n",
    "        self.tour = []\n",
    "        if city_i>0:\n",
    "            self.visit(city_i)\n",
    "    \n",
    "    @property\n",
    "    def current_city(self):\n",
    "        return self.tour[-1]\n",
    "\n",
    "    @property\n",
    "    def tour_weight(self):\n",
    "        if len(self.tour) != self._tour_weight_cache['n_cities']:\n",
    "            self._tour_weight_cache['weight'] = self.tsp.trace_tours([self.tour])[0]\n",
    "        return self._tour_weight_cache['weight']\n",
    "    \n",
    "    def visit(self, i:int):\n",
    "        if i in self.tour:\n",
    "            raise Exception(\"The city i: %s is already visited. Imposible to visit again\"%i)\n",
    "        if i < 1 or i > N:\n",
    "            raise Exception(\"The city i (%s) is out of range: -> [1, %s]\"%(i, N))\n",
    "        self.tour.append(i)\n",
    "    \n",
    "    def distance_to(self, city_j:int):\n",
    "        return self.tsp.get_weight(self.current_city, city_j)\n",
    "    \n",
    "    def _not_visited_cities(self):\n",
    "        return [i for i in range(1,N+1) if i not in self.tour]\n",
    "    \n",
    "    def _raw_probability(self, city_j:int, pheromones_matrix):\n",
    "        ## ASSUMPTION: We consider the edge has two ways. Phromones to go and to go back. In other words. I->J != J->I\n",
    "        # careful, we must substract one from the cities index\n",
    "        return pheromones_matrix[self.current_city-1][city_j-1]**ALPHA * (1/self.distance_to(city_j))**BETA\n",
    "    \n",
    "    def normalized_probabilities(self, pheromones_matrix):\n",
    "        \"\"\" Returns a tuple\n",
    "            First element: List of neighbors, cities not visited\n",
    "            Second element: List of probabilities calculated with the formular of tau_ij^A* h_ij^B\n",
    "        \"\"\"\n",
    "        neighbors = self._not_visited_cities()\n",
    "        neighbors_pheromone_list = [self._raw_probability(neighbor_j, pheromones_matrix) for neighbor_j in neighbors]\n",
    "        total = sum(neighbors_pheromone_list)\n",
    "        return neighbors, [pheromone_ij/total for idx, pheromone_ij in enumerate(neighbors_pheromone_list)]\n",
    "        \n",
    "    def pick_next_city(self, cities, probabilities):\n",
    "        roulette_x = random()\n",
    "        idx = 0\n",
    "        roulette_sum = 0\n",
    "        for p in probabilities:\n",
    "            roulette_sum += p\n",
    "            if roulette_sum >= roulette_x  :\n",
    "                return cities[idx]\n",
    "    \n",
    "    def finished_tour(self):\n",
    "        return len(self.tour) == N\n",
    "\n",
    "    def plot_hot_map(self):\n",
    "        df = pd.DataFrame([[0 for j in N] for i in N])\n",
    "        for posi_i in range(1, len(ant.tour)):\n",
    "            i = ant.tour[posi_i-1]-1\n",
    "            j = ant.tour[posi_i]-1\n",
    "            pheromones_to_add[i][j] += tau_delta\n",
    "            \n",
    "        plt.imshow(df, cmap='hot', interpolation='nearest')\n",
    "        plt.show()"
   ]
  },
  {
   "cell_type": "code",
   "execution_count": 9,
   "metadata": {},
   "outputs": [
    {
     "name": "stdout",
     "output_type": "stream",
     "text": [
      "[1]\n",
      "[1, 29]\n",
      "Total weight of this ant tour is: 15598\n"
     ]
    }
   ],
   "source": [
    "a = Ant(1)\n",
    "print(a.tour)\n",
    "a.visit(29)\n",
    "print(a.tour)\n",
    "print(\"Total weight of this ant tour is: %s\"%a.tour_weight)"
   ]
  },
  {
   "cell_type": "code",
   "execution_count": 22,
   "metadata": {},
   "outputs": [],
   "source": [
    "def plot_pheromones(df, title):\n",
    "    print(title)\n",
    "    plt.imshow(df, cmap='hot', interpolation='nearest')\n",
    "    plt.show()"
   ]
  },
  {
   "cell_type": "markdown",
   "metadata": {},
   "source": [
    "## BASE LINE"
   ]
  },
  {
   "cell_type": "code",
   "execution_count": 10,
   "metadata": {},
   "outputs": [
    {
     "name": "stdout",
     "output_type": "stream",
     "text": [
      "[1, 2, 3, 4, 5, 6, 7, 8, 9, 10, 11, 12, 13, 14, 15, 16, 17, 18, 19, 20, 21, 22, 23, 24, 25, 26, 27, 28, 29]\n",
      "52284\n"
     ]
    }
   ],
   "source": [
    "# Solution joining all the cities in sequence\n",
    "ant = Ant(1)\n",
    "for i in range(2,N+1):\n",
    "    ant.visit(i)\n",
    "print(ant.tour)\n",
    "print(ant.tour_weight)"
   ]
  },
  {
   "cell_type": "code",
   "execution_count": 11,
   "metadata": {},
   "outputs": [
    {
     "name": "stdout",
     "output_type": "stream",
     "text": [
      "[1, 3, 21, 17, 11, 24, 4, 12, 5, 16, 8, 20, 22, 2, 25, 15, 13, 18, 23, 7, 19, 26, 27, 29, 28, 10, 14, 9, 6]\n",
      "110078\n"
     ]
    }
   ],
   "source": [
    "# Random Solution\n",
    "ant = Ant(1)\n",
    "random_cities = list(range(2,N+1))\n",
    "shuffle(random_cities)\n",
    "for i in random_cities:\n",
    "    ant.visit(i)\n",
    "print(ant.tour)\n",
    "print(ant.tour_weight)"
   ]
  },
  {
   "cell_type": "code",
   "execution_count": 12,
   "metadata": {},
   "outputs": [
    {
     "name": "stdout",
     "output_type": "stream",
     "text": [
      "[1, 2, 4, 7, 11, 16, 22, 29, 28, 27, 23, 26, 25, 24, 20, 21, 19, 18, 17, 14, 15, 13, 12, 8, 9, 6, 5, 10, 3]\n",
      "56645\n"
     ]
    }
   ],
   "source": [
    "# Solution using the heuristic\n",
    "ant = Ant(1)\n",
    "while not ant.finished_tour():\n",
    "    neighbors = ant._not_visited_cities()\n",
    "    distances = []\n",
    "    for city_j in range(1, len(neighbors)+1):\n",
    "        distances.append(ant.distance_to(city_j))\n",
    "    pos_min_distance = distances.index(min(distances))\n",
    "    next_closest_city = neighbors[pos_min_distance]\n",
    "    ant.visit(next_closest_city)\n",
    "print(ant.tour)\n",
    "print(ant.tour_weight)"
   ]
  },
  {
   "cell_type": "markdown",
   "metadata": {},
   "source": [
    "## ANT SYSTEM"
   ]
  },
  {
   "cell_type": "code",
   "execution_count": 29,
   "metadata": {},
   "outputs": [
    {
     "name": "stdout",
     "output_type": "stream",
     "text": [
      "Step 1 from 100.\n"
     ]
    },
    {
     "data": {
      "image/png": "[encoded data removed]",
      "text/plain": [
       "<Figure size 432x288 with 1 Axes>"
      ]
     },
     "metadata": {
      "needs_background": "light"
     },
     "output_type": "display_data"
    },
    {
     "name": "stdout",
     "output_type": "stream",
     "text": [
      "Step 11 from 100.\n"
     ]
    },
    {
     "data": {
      "image/png": "[encoded data removed]",
      "text/plain": [
       "<Figure size 432x288 with 1 Axes>"
      ]
     },
     "metadata": {
      "needs_background": "light"
     },
     "output_type": "display_data"
    },
    {
     "name": "stdout",
     "output_type": "stream",
     "text": [
      "Step 21 from 100.\n"
     ]
    },
    {
     "data": {
      "image/png": "[encoded data removed]",
      "text/plain": [
       "<Figure size 432x288 with 1 Axes>"
      ]
     },
     "metadata": {
      "needs_background": "light"
     },
     "output_type": "display_data"
    },
    {
     "name": "stdout",
     "output_type": "stream",
     "text": [
      "Step 31 from 100.\n"
     ]
    },
    {
     "data": {
      "image/png": "[encoded data removed]",
      "text/plain": [
       "<Figure size 432x288 with 1 Axes>"
      ]
     },
     "metadata": {
      "needs_background": "light"
     },
     "output_type": "display_data"
    },
    {
     "name": "stdout",
     "output_type": "stream",
     "text": [
      "Step 41 from 100.\n"
     ]
    },
    {
     "data": {
      "image/png": "[encoded data removed]",
      "text/plain": [
       "<Figure size 432x288 with 1 Axes>"
      ]
     },
     "metadata": {
      "needs_background": "light"
     },
     "output_type": "display_data"
    },
    {
     "name": "stdout",
     "output_type": "stream",
     "text": [
      "Step 51 from 100.\n"
     ]
    },
    {
     "data": {
      "image/png": "[encoded data removed]",
      "text/plain": [
       "<Figure size 432x288 with 1 Axes>"
      ]
     },
     "metadata": {
      "needs_background": "light"
     },
     "output_type": "display_data"
    },
    {
     "name": "stdout",
     "output_type": "stream",
     "text": [
      "Step 61 from 100.\n"
     ]
    },
    {
     "data": {
      "image/png": "[encoded data removed]",
      "text/plain": [
       "<Figure size 432x288 with 1 Axes>"
      ]
     },
     "metadata": {
      "needs_background": "light"
     },
     "output_type": "display_data"
    },
    {
     "name": "stdout",
     "output_type": "stream",
     "text": [
      "Step 71 from 100.\n"
     ]
    },
    {
     "data": {
      "image/png": "[encoded data removed]",
      "text/plain": [
       "<Figure size 432x288 with 1 Axes>"
      ]
     },
     "metadata": {
      "needs_background": "light"
     },
     "output_type": "display_data"
    },
    {
     "name": "stdout",
     "output_type": "stream",
     "text": [
      "Step 81 from 100.\n"
     ]
    },
    {
     "data": {
      "image/png": "[encoded data removed]",
      "text/plain": [
       "<Figure size 432x288 with 1 Axes>"
      ]
     },
     "metadata": {
      "needs_background": "light"
     },
     "output_type": "display_data"
    },
    {
     "name": "stdout",
     "output_type": "stream",
     "text": [
      "Step 91 from 100.\n"
     ]
    },
    {
     "data": {
      "image/png": "[encoded data removed]",
      "text/plain": [
       "<Figure size 432x288 with 1 Axes>"
      ]
     },
     "metadata": {
      "needs_background": "light"
     },
     "output_type": "display_data"
    },
    {
     "name": "stdout",
     "output_type": "stream",
     "text": [
      "Step 100 from 100.\n"
     ]
    },
    {
     "data": {
      "image/png": "[encoded data removed]",
      "text/plain": [
       "<Figure size 432x288 with 1 Axes>"
      ]
     },
     "metadata": {
      "needs_background": "light"
     },
     "output_type": "display_data"
    }
   ],
   "source": [
    "M_ANTS = N # Number of ants ~ to number of nodes (N)\n",
    "ALPHA = 1 # History coefficietn ~ 1\n",
    "BETA = 2.5 # 0,1,2,3,4,5,6 # Heuristic Coefficient [2,5]\n",
    "RO = 0.5 # Evaporation rate # It's like cooling. A high value is similar to very decrease the temparature drastically and get stucked in a local optimum\n",
    "Q = 1 # Pheromone change factor\n",
    "TAU_INITIAL = 1/70000 # Initial pheromone ~ 1/RO*C^nn ; C^nn is the length of the tour generated by the nearest neighbor heuristic\n",
    "STEPS = 100\n",
    "\n",
    "# INIT MATRIX for each CITY IJ with TAU INITIAL (t_0)\n",
    "_pheromones_row = [TAU_INITIAL for i in range(N)]\n",
    "pheromones_matrix = [_pheromones_row for j in range(N)]\n",
    "\n",
    "history_list = []\n",
    "\n",
    "for step in range(STEPS):\n",
    "    ants_list = []\n",
    "    for ant_i in range(M_ANTS):\n",
    "        # pick a starting point\n",
    "        first_random_city = randrange(N)+1\n",
    "        ant = Ant(first_random_city)\n",
    "        ants_list.append(ant)\n",
    "        while not ant.finished_tour():\n",
    "            # calculate probability P_j for all unvisited neightbors J\n",
    "                # ANT SYSTEM (AS): Probability of each edge in the neighborhood\n",
    "                # p_ij_k = (t_ij^a * (1/d_ij)^b ) / SUM(all feasible g edges) # It's like edge normalized\n",
    "            neighbors, probabilities = ant.normalized_probabilities(pheromones_matrix) # sum(probabilities) == 1\n",
    "            # pick the next node using the probabilities\n",
    "            next_city = ant.pick_next_city(neighbors, probabilities)\n",
    "            ant.visit(next_city)\n",
    "    history_list.append(ants_list.copy()) # save results\n",
    "    # update pheromone values based upon the quality of each solution\n",
    "        # ANT SYSTEM (AS): All ants contribute updating the pheromone as follows\n",
    "        # TAU_I_J = (1-RO)*TAU_I_J + SUM(Q/(Lk or 0)) # Attention! In TSP Lk will be always the same == N Total cities\n",
    "                                           # Probably in TSP the length means the distance\n",
    "    pheromones_to_add = [[0 for i in range(N)] for j in range(N)]\n",
    "    for ant in ants_list:\n",
    "        tau_delta = Q/ant.tour_weight\n",
    "        for tour_i in range(1, len(ant.tour)):\n",
    "            i = ant.tour[tour_i-1]-1 # city\n",
    "            j = ant.tour[tour_i]-1 # next city\n",
    "            pheromones_to_add[i][j] += tau_delta\n",
    "    # update fermonones\n",
    "    df = pd.DataFrame(pheromones_matrix)*(1-RO)+pd.DataFrame(pheromones_to_add)\n",
    "    pheromones_matrix = df.values\n",
    "    # PLOT every 10th of steps\n",
    "    if step % int(STEPS/10) == 0:\n",
    "        plot_pheromones(df, title=\"Step %s from %s.\"%(step+1,STEPS))\n",
    "# Plot last result\n",
    "plot_pheromones(df, title=\"Step %s from %s.\"%(step+1,STEPS))\n",
    "        "
   ]
  },
  {
   "cell_type": "code",
   "execution_count": 30,
   "metadata": {},
   "outputs": [
    {
     "name": "stdout",
     "output_type": "stream",
     "text": [
      "[56061, 51347, 51036, 56061, 52284, 51946, 52299, 52758, 52312, 52758, 52515, 49265, 52277, 49265, 56265, 52366, 49265, 56265, 52322, 50670, 52515, 51263, 52312, 53179, 50670, 56265, 52312, 52299, 53179]\n"
     ]
    }
   ],
   "source": [
    "tours_weight_list = [a.tour_weight for a in ants_list]\n",
    "print(tours_weight_list)"
   ]
  },
  {
   "cell_type": "code",
   "execution_count": 31,
   "metadata": {},
   "outputs": [
    {
     "name": "stdout",
     "output_type": "stream",
     "text": [
      "Min weigth: 49265\n",
      "Tour: [6, 1, 2, 3, 4, 5, 7, 8, 9, 10, 11, 12, 13, 14, 15, 16, 17, 18, 19, 20, 21, 22, 23, 24, 25, 26, 27, 28, 29]\n"
     ]
    }
   ],
   "source": [
    "pos_min = tours_weight_list.index(min(tours_weight_list))\n",
    "print(\"Min weigth: %s\"%tours_weight_list[pos_min])\n",
    "best_tour = ants_list[pos_min].tour\n",
    "print(\"Best Tour: %s\"%best_tour)"
   ]
  },
  {
   "cell_type": "code",
   "execution_count": null,
   "metadata": {},
   "outputs": [],
   "source": []
  },
  {
   "cell_type": "markdown",
   "metadata": {},
   "source": [
    "## Parameters"
   ]
  },
  {
   "cell_type": "code",
   "execution_count": 16,
   "metadata": {},
   "outputs": [],
   "source": [
    "M_ANTS = 5 # Number of ants ~ to number of nodes (N)\n",
    "ALPHA = 1 # History coefficietn ~ 1\n",
    "BETA = 2 # 0,1,3,4,5,6 # Heuristic Coefficient [2,5]\n",
    "RO = 0.02 # Eaporation rate # It's like cooling. A high value is similar to very decrease the temparature drastically and get stucked in a local optimum\n",
    "Q = 0.5 # Pheromone change factor\n",
    "TAU_INITIAL = 0.5 # Initial pheromone ~ 1/RO*C^nn ; C^nn is the length of the tour generated by the nearest neighbor heuristic"
   ]
  },
  {
   "cell_type": "code",
   "execution_count": 17,
   "metadata": {},
   "outputs": [],
   "source": [
    "# FOR MMAS\n",
    "CHS = 99999999999 # TODO: Make the heuristic picking the shortest path at each step\n",
    "TAU_MAX = 1/(RO*CHS) # 1/RO*C^hs ; C^hs is the length of the best tour found so far\n",
    "TAU_MIN = TAU_MAX*(1-0.05**(1/N))"
   ]
  }
 ],
 "metadata": {
  "kernelspec": {
   "display_name": "Python 3",
   "language": "python",
   "name": "python3"
  },
  "language_info": {
   "codemirror_mode": {
    "name": "ipython",
    "version": 3
   },
   "file_extension": ".py",
   "mimetype": "text/x-python",
   "name": "python",
   "nbconvert_exporter": "python",
   "pygments_lexer": "ipython3",
   "version": "3.7.6"
  }
 },
 "nbformat": 4,
 "nbformat_minor": 4
}
